{
 "cells": [
  {
   "cell_type": "code",
   "execution_count": 46,
   "metadata": {},
   "outputs": [],
   "source": [
    "import notebook_config\n",
    "from Tweet2vec import Tweet2vec\n",
    "import numpy as np\n",
    "from gensim.models.doc2vec import Doc2Vec, TaggedDocument\n",
    "from nltk.tokenize import word_tokenize"
   ]
  },
  {
   "cell_type": "code",
   "execution_count": 47,
   "metadata": {},
   "outputs": [],
   "source": [
    "corpus = Tweet2vec(from_path='../data/workflow_example_data.txt', from_format='pickle', pairwise=False)\n",
    "corpus.load_corpus()"
   ]
  },
  {
   "cell_type": "code",
   "execution_count": 48,
   "metadata": {},
   "outputs": [],
   "source": [
    "questions = [doc for idx, doc in enumerate(corpus.corpus) if idx % 2 == 0]\n",
    "answers   = [doc for idx, doc in enumerate(corpus.corpus) if idx % 2 != 0]"
   ]
  },
  {
   "cell_type": "code",
   "execution_count": 49,
   "metadata": {},
   "outputs": [
    {
     "name": "stdout",
     "output_type": "stream",
     "text": [
      "its coronavirus no needed extra capitalization in there also have you heard many people are\n",
      "the media should view this as a time of unity and strength we have a common enemy actually an enemy of the world the coronavirus we must beat it as quickly and safely as possible there is nothing more important to me than the life amp safety of the united states\n"
     ]
    }
   ],
   "source": [
    "print(questions[2])\n",
    "print(answers[2])"
   ]
  },
  {
   "cell_type": "code",
   "execution_count": 50,
   "metadata": {},
   "outputs": [
    {
     "data": {
      "text/plain": [
       "['its', 'coronavirus', 'no']"
      ]
     },
     "execution_count": 50,
     "metadata": {},
     "output_type": "execute_result"
    }
   ],
   "source": [
    "tokenized_doc = []\n",
    "for d in questions:\n",
    "    tokenized_doc.append(word_tokenize(d.lower()))\n",
    "tokenized_doc[2][:3]"
   ]
  },
  {
   "cell_type": "code",
   "execution_count": 51,
   "metadata": {},
   "outputs": [
    {
     "data": {
      "text/plain": [
       "TaggedDocument(words=['its', 'coronavirus', 'no', 'needed', 'extra', 'capitalization', 'in', 'there', 'also', 'have', 'you', 'heard', 'many', 'people', 'are'], tags=[2])"
      ]
     },
     "execution_count": 51,
     "metadata": {},
     "output_type": "execute_result"
    }
   ],
   "source": [
    "tagged_data = [TaggedDocument(d, [i]) for i, d in enumerate(tokenized_doc)]\n",
    "tagged_data[2]"
   ]
  },
  {
   "cell_type": "code",
   "execution_count": 52,
   "metadata": {},
   "outputs": [
    {
     "name": "stdout",
     "output_type": "stream",
     "text": [
      "what Vocab(count:44, index:52, sample_int:4252252605)\n",
      "pantry Vocab(count:1, index:1299, sample_int:4294967296)\n",
      "essentials Vocab(count:1, index:1300, sample_int:4294967296)\n"
     ]
    }
   ],
   "source": [
    "model = Doc2Vec(tagged_data, vector_size=20, window=2, min_count=1, workers=4, epochs=100)\n",
    "model.save(\"../data/test_doc2vec.model\")\n",
    "model= Doc2Vec.load(\"../data/test_doc2vec.model\")\n",
    "\n",
    "count = 0\n",
    "for key, values in model.wv.vocab.items():\n",
    "    print(key, values)\n",
    "    count += 1\n",
    "    if count == 3:\n",
    "        break"
   ]
  },
  {
   "cell_type": "code",
   "execution_count": 57,
   "metadata": {},
   "outputs": [
    {
     "data": {
      "text/plain": [
       "[(1028, 0.6550549268722534),\n",
       " (234, 0.6226900815963745),\n",
       " (664, 0.602226197719574),\n",
       " (67, 0.5881645679473877),\n",
       " (269, 0.5861196517944336)]"
      ]
     },
     "execution_count": 57,
     "metadata": {},
     "output_type": "execute_result"
    }
   ],
   "source": [
    "tweet = \"too many deaths and our government is not doing anything\"\n",
    "test_doc = word_tokenize(tweet.lower())\n",
    "model.docvecs.most_similar(positive=[model.infer_vector(test_doc)],topn=5)"
   ]
  },
  {
   "cell_type": "code",
   "execution_count": 58,
   "metadata": {},
   "outputs": [
    {
     "name": "stdout",
     "output_type": "stream",
     "text": [
      "too many deaths and our government is not doing anything\n",
      "lol confirmed coronavirus case us mexico the wall isnt the problem but your ineffecti\n",
      "going up fast we need the wall more than ever\n"
     ]
    }
   ],
   "source": [
    "idx = 1028\n",
    "print(tweet)\n",
    "print(questions[idx])\n",
    "print(answers[idx])"
   ]
  }
 ],
 "metadata": {
  "kernelspec": {
   "display_name": "Python 3",
   "language": "python",
   "name": "python3"
  },
  "language_info": {
   "codemirror_mode": {
    "name": "ipython",
    "version": 3
   },
   "file_extension": ".py",
   "mimetype": "text/x-python",
   "name": "python",
   "nbconvert_exporter": "python",
   "pygments_lexer": "ipython3",
   "version": "3.6.7"
  }
 },
 "nbformat": 4,
 "nbformat_minor": 2
}
