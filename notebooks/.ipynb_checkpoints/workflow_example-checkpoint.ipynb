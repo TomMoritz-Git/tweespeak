{
 "cells": [
  {
   "cell_type": "markdown",
   "metadata": {},
   "source": [
    "### Imports "
   ]
  },
  {
   "cell_type": "code",
   "execution_count": 1,
   "metadata": {},
   "outputs": [],
   "source": [
    "import notebook_config\n",
    "\n",
    "from Listener import Listener\n",
    "from Tweet2vec import Tweet2vec"
   ]
  },
  {
   "cell_type": "markdown",
   "metadata": {},
   "source": [
    "### Listen for tweets"
   ]
  },
  {
   "cell_type": "markdown",
   "metadata": {},
   "source": [
    "#### Hyperparameters "
   ]
  },
  {
   "cell_type": "code",
   "execution_count": 2,
   "metadata": {},
   "outputs": [],
   "source": [
    "listener_args = {\n",
    "    'tracked_keywords': [\n",
    "        'coronavirus', 'covid-19', 'COVID-19'\n",
    "    ], # For Tweeter API\n",
    "    'tracked_patterns': ['coronavirus'], # Tweet must match all regex (list elements)\n",
    "    'languages': ['en'],\n",
    "    'locations': [-124.86, 24.65, -74.95, 49.01], # If multiple loc, pass flat list\n",
    "    'follow': False, # Account names\n",
    "    'file_path': '../data/workflow_example_data.txt',\n",
    "    'inflect_nb_to_words': False,\n",
    "    'tweet_limit': 100,\n",
    "    'tweet_min_len': 10,\n",
    "    'tweet_format': 'pickle', # raw_txt, clean_txt, JSON_txt, pickle\n",
    "    'from_scratch': False, # mode write or append with file_path\n",
    "    'rm_stop_words': False,\n",
    "    'checkpoint_rate': 0.2, # saves data every checkpoint_rate %\n",
    "    'only_retweeted': False,\n",
    "    'match_reply': True # keep only replies to tweets   \n",
    "}"
   ]
  },
  {
   "cell_type": "markdown",
   "metadata": {},
   "source": [
    "#### Start listening"
   ]
  },
  {
   "cell_type": "code",
   "execution_count": 3,
   "metadata": {},
   "outputs": [
    {
     "name": "stdout",
     "output_type": "stream",
     "text": [
      "Listening...\n",
      "Progression: 100.00% - 100 tweets | 1.80s per tweet \n",
      "End of listening.\n",
      "File(s) saved at: C:\\Users\\tommo\\Documents\\tweespeak\\data\\workflow_example_data.txt\n"
     ]
    }
   ],
   "source": [
    "listener = Listener(**listener_args)\n",
    "listener.start_listening()"
   ]
  },
  {
   "cell_type": "markdown",
   "metadata": {},
   "source": [
    "### Tweet2Vec - Find the most similar tweet and its reply"
   ]
  },
  {
   "cell_type": "code",
   "execution_count": 6,
   "metadata": {
    "scrolled": false
   },
   "outputs": [
    {
     "name": "stdout",
     "output_type": "stream",
     "text": [
      "CLOSEST:\n",
      "no doubt trump will threaten them to tamp down the coronavirus news\n",
      "\n",
      "REPLY:\n",
      "witnesses at the hearingincluding fauci and redfieldare being called to a white house meeting the wh claims this is not an emergency meeting amp was scheduled yesterday the witness staffs say they were not told of the meeting until this morning\n",
      "\n"
     ]
    }
   ],
   "source": [
    "pairwise = True\n",
    "\n",
    "txt2vec = Tweet2vec(\n",
    "    from_path=listener_args['file_path'],\n",
    "    from_format=listener_args['tweet_format'],\n",
    "    pairwise=pairwise,\n",
    "    min_df=1)\n",
    "\n",
    "input_tweet = 'coronavirus is fake news'\n",
    "result = txt2vec.find_most_similar(tweet=input_tweet)\n",
    "\n",
    "if pairwise:\n",
    "    print(f'CLOSEST:\\n{result[0].clean_txt}\\n')\n",
    "    print(f'REPLY:\\n{result[1].clean_txt}\\n')\n",
    "else:\n",
    "    print(f'CLOSEST:\\n{result.clean_txt}\\n')"
   ]
  },
  {
   "cell_type": "code",
   "execution_count": 7,
   "metadata": {},
   "outputs": [
    {
     "name": "stdout",
     "output_type": "stream",
     "text": [
      "CLOSEST:\n",
      "@DavidCornDC @timihaworth @coronavirus No doubt Trump will threaten them to tamp down the coronavirus news! #VoteBlueToEndThisNightmare\n",
      "\n",
      "REPLY:\n",
      "Witnesses at the @coronavirus hearing—including Fauci and Redfield—are being called to a White House meeting. The WH claims this is not an \"emergency\" meeting &amp; was scheduled yesterday. The witness' staffs say they were not told of the meeting until this morning.\n",
      "\n"
     ]
    }
   ],
   "source": [
    "if pairwise:\n",
    "    print(f'CLOSEST:\\n{result[0].raw_txt}\\n')\n",
    "    print(f'REPLY:\\n{result[1].raw_txt}\\n')\n",
    "else:\n",
    "    print(f'CLOSEST:\\n{result.raw_txt}\\n')"
   ]
  }
 ],
 "metadata": {
  "kernelspec": {
   "display_name": "Python 3",
   "language": "python",
   "name": "python3"
  },
  "language_info": {
   "codemirror_mode": {
    "name": "ipython",
    "version": 3
   },
   "file_extension": ".py",
   "mimetype": "text/x-python",
   "name": "python",
   "nbconvert_exporter": "python",
   "pygments_lexer": "ipython3",
   "version": "3.6.7"
  }
 },
 "nbformat": 4,
 "nbformat_minor": 2
}
