{
 "cells": [
  {
   "cell_type": "markdown",
   "metadata": {},
   "source": [
    "### Imports "
   ]
  },
  {
   "cell_type": "code",
   "execution_count": 1,
   "metadata": {},
   "outputs": [],
   "source": [
    "import notebook_config\n",
    "\n",
    "from Listener import Listener\n",
    "from Tweet2vec import Tweet2vec"
   ]
  },
  {
   "cell_type": "markdown",
   "metadata": {},
   "source": [
    "### Listen for tweets"
   ]
  },
  {
   "cell_type": "markdown",
   "metadata": {},
   "source": [
    "#### Hyperparameters "
   ]
  },
  {
   "cell_type": "code",
   "execution_count": 2,
   "metadata": {},
   "outputs": [],
   "source": [
    "listener_args = {\n",
    "    'tracked_keywords': [\n",
    "        'coronavirus', 'covid-19', 'COVID-19'\n",
    "    ], # For Tweeter API\n",
    "    'tracked_patterns': [], # Tweet must match all regex (list elements)\n",
    "    'languages': ['en'],\n",
    "    'locations': [-124.86, 24.65, -74.95, 49.01], # If multiple loc, pass flat list\n",
    "    'follow': False, # Account names\n",
    "    'file_path': '../data/workflow_example_data.txt',\n",
    "    'inflect_nb_to_words': False,\n",
    "    'tweet_limit': 100,\n",
    "    'tweet_min_len': 25,\n",
    "    'tweet_format': 'clean_txt', # raw_txt, clean_txt or JSON\n",
    "    'from_scratch': True, # mode write or append with file_path\n",
    "    'rm_stop_words': False,\n",
    "    'checkpoint_rate': 0.2, # saves data every checkpoint_rate %\n",
    "    'only_retweeted': False,\n",
    "    'match_reply': True # keep only replies to tweets   \n",
    "}"
   ]
  },
  {
   "cell_type": "markdown",
   "metadata": {},
   "source": [
    "#### Start listening"
   ]
  },
  {
   "cell_type": "code",
   "execution_count": 3,
   "metadata": {},
   "outputs": [
    {
     "name": "stdout",
     "output_type": "stream",
     "text": [
      "Listening...\n",
      "Progression: 100.00% - 100 tweets | 0.43s per tweet \n",
      "End of listening.\n",
      "File(s) saved at: C:\\Users\\tommo\\Documents\\tweespeak\\data\\workflow_example_data.txt\n"
     ]
    }
   ],
   "source": [
    "listener = Listener(**listener_args)\n",
    "listener.start_listening()"
   ]
  },
  {
   "cell_type": "markdown",
   "metadata": {},
   "source": [
    "### Tweet2Vec - Find the most similar tweet and its reply"
   ]
  },
  {
   "cell_type": "code",
   "execution_count": 4,
   "metadata": {},
   "outputs": [
    {
     "name": "stdout",
     "output_type": "stream",
     "text": [
      "if donald trump continues to ignore the severity of the coronavirus epidemic compared to the drastic containment measures of xi jinping americas role as a global hegemony will be severely undermined\n",
      "\n"
     ]
    }
   ],
   "source": [
    "txt2vec = Tweet2vec(\n",
    "    from_path=listener_args['file_path'],\n",
    "    pairwise=True,\n",
    "    min_df=1)\n",
    "\n",
    "input_tweet = 'coronavirus can stop the global economy'\n",
    "reply = txt2vec.find_most_similar(tweet=input_tweet)\n",
    "\n",
    "print(reply)"
   ]
  }
 ],
 "metadata": {
  "kernelspec": {
   "display_name": "Python 3",
   "language": "python",
   "name": "python3"
  },
  "language_info": {
   "codemirror_mode": {
    "name": "ipython",
    "version": 3
   },
   "file_extension": ".py",
   "mimetype": "text/x-python",
   "name": "python",
   "nbconvert_exporter": "python",
   "pygments_lexer": "ipython3",
   "version": "3.6.7"
  }
 },
 "nbformat": 4,
 "nbformat_minor": 2
}
