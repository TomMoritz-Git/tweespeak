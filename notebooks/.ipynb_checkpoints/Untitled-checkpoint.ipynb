{
 "cells": [
  {
   "cell_type": "code",
   "execution_count": 46,
   "metadata": {},
   "outputs": [],
   "source": [
    "import notebook_config\n",
    "from Tweet2vec import Tweet2vec\n",
    "import numpy as np\n",
    "from gensim.models.doc2vec import Doc2Vec, TaggedDocument\n",
    "from nltk.tokenize import word_tokenize"
   ]
  },
  {
   "cell_type": "code",
   "execution_count": 47,
   "metadata": {},
   "outputs": [],
   "source": [
    "corpus = Tweet2vec(from_path='../data/workflow_example_data.txt', from_format='pickle', pairwise=False)\n",
    "corpus.load_corpus()"
   ]
  },
  {
   "cell_type": "code",
   "execution_count": 48,
   "metadata": {},
   "outputs": [],
   "source": [
    "questions = [doc for idx, doc in enumerate(corpus.corpus) if idx % 2 == 0]\n",
    "answers   = [doc for idx, doc in enumerate(corpus.corpus) if idx % 2 != 0]"
   ]
  },
  {
   "cell_type": "code",
   "execution_count": 49,
   "metadata": {},
   "outputs": [
    {
     "name": "stdout",
     "output_type": "stream",
     "text": [
      "its coronavirus no needed extra capitalization in there also have you heard many people are\n",
      "the media should view this as a time of unity and strength we have a common enemy actually an enemy of the world the coronavirus we must beat it as quickly and safely as possible there is nothing more important to me than the life amp safety of the united states\n"
     ]
    }
   ],
   "source": [
    "print(questions[2])\n",
    "print(answers[2])"
   ]
  },
  {
   "cell_type": "code",
   "execution_count": 50,
   "metadata": {},
   "outputs": [
    {
     "data": {
      "text/plain": [
       "['its', 'coronavirus', 'no']"
      ]
     },
     "execution_count": 50,
     "metadata": {},
     "output_type": "execute_result"
    }
   ],
   "source": [
    "tokenized_doc = []\n",
    "for d in questions:\n",
    "    tokenized_doc.append(word_tokenize(d.lower()))\n",
    "tokenized_doc[2][:3]"
   ]
  },
  {
   "cell_type": "code",
   "execution_count": 51,
   "metadata": {},
   "outputs": [
    {
     "data": {
      "text/plain": [
       "TaggedDocument(words=['its', 'coronavirus', 'no', 'needed', 'extra', 'capitalization', 'in', 'there', 'also', 'have', 'you', 'heard', 'many', 'people', 'are'], tags=[2])"
      ]
     },
     "execution_count": 51,
     "metadata": {},
     "output_type": "execute_result"
    }
   ],
   "source": [
    "tagged_data = [TaggedDocument(d, [i]) for i, d in enumerate(tokenized_doc)]\n",
    "tagged_data[2]"
   ]
  },
  {
   "cell_type": "code",
   "execution_count": 52,
   "metadata": {},
   "outputs": [
    {
     "name": "stdout",
     "output_type": "stream",
     "text": [
      "what Vocab(count:44, index:52, sample_int:4252252605)\n",
      "pantry Vocab(count:1, index:1299, sample_int:4294967296)\n",
      "essentials Vocab(count:1, index:1300, sample_int:4294967296)\n"
     ]
    }
   ],
   "source": [
    "model = Doc2Vec(tagged_data, vector_size=20, window=2, min_count=1, workers=4, epochs=100)\n",
    "model.save(\"../data/test_doc2vec.model\")\n",
    "model= Doc2Vec.load(\"../data/test_doc2vec.model\")\n",
    "\n",
    "count = 0\n",
    "for key, values in model.wv.vocab.items():\n",
    "    print(key, values)\n",
    "    count += 1\n",
    "    if count == 3:\n",
    "        break"
   ]
  },
  {
   "cell_type": "code",
   "execution_count": 53,
   "metadata": {},
   "outputs": [
    {
     "data": {
      "text/plain": [
       "[(558, 0.6204697489738464),\n",
       " (237, 0.6151267290115356),\n",
       " (724, 0.5800637006759644),\n",
       " (1074, 0.5794592499732971),\n",
       " (473, 0.5707083940505981)]"
      ]
     },
     "execution_count": 53,
     "metadata": {},
     "output_type": "execute_result"
    }
   ],
   "source": [
    "tweet = \"I am not afraid of this coronavirus but I am scared to run out of toilet paper\"\n",
    "test_doc = word_tokenize(tweet.lower())\n",
    "model.docvecs.most_similar(positive=[model.infer_vector(test_doc)],topn=5)"
   ]
  },
  {
   "cell_type": "code",
   "execution_count": 54,
   "metadata": {},
   "outputs": [
    {
     "name": "stdout",
     "output_type": "stream",
     "text": [
      "I am not afraid of this coronavirus but I am scared to run out of toilet paper\n",
      "viruses have no chance infecting my life they bounce off me i have no time for them ive dedicated my life to\n",
      "some ways to protect yourself from viruses book sessions resolve fears of disease or death equal parts white vinegarrubbing alcohol is ph balanced for spot treatment on skinears use separate bottle for cleaning\n"
     ]
    }
   ],
   "source": [
    "idx = 558\n",
    "print(tweet)\n",
    "print(questions[idx])\n",
    "print(answers[idx])"
   ]
  }
 ],
 "metadata": {
  "kernelspec": {
   "display_name": "Python 3",
   "language": "python",
   "name": "python3"
  },
  "language_info": {
   "codemirror_mode": {
    "name": "ipython",
    "version": 3
   },
   "file_extension": ".py",
   "mimetype": "text/x-python",
   "name": "python",
   "nbconvert_exporter": "python",
   "pygments_lexer": "ipython3",
   "version": "3.6.7"
  }
 },
 "nbformat": 4,
 "nbformat_minor": 2
}
